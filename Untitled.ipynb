{
 "cells": [
  {
   "cell_type": "code",
   "execution_count": 56,
   "metadata": {},
   "outputs": [],
   "source": [
    "import numpy as np\n",
    "import math\n",
    "import torch\n",
    "import pandas as pd\n",
    "import matplotlib.pyplot as plt\n",
    "from torchvision import datasets, transforms"
   ]
  },
  {
   "cell_type": "code",
   "execution_count": 57,
   "metadata": {},
   "outputs": [],
   "source": [
    "transform = transforms.Compose([\n",
    "transforms.ToTensor(),\n",
    "transforms.Normalize((0.1307,),(0.3081,)), # mean value = 0.1307, standard deviation value = 0.3081\n",
    "])"
   ]
  },
  {
   "cell_type": "code",
   "execution_count": 58,
   "metadata": {},
   "outputs": [],
   "source": [
    "data_path = './MNIST'\n",
    "\n",
    "data_test   = datasets.MNIST(root = data_path, train= True, download=True, transform= transform)\n",
    "data_train  = datasets.MNIST(root = data_path, train= False, download=True, transform= transform)\n"
   ]
  },
  {
   "cell_type": "code",
   "execution_count": 59,
   "metadata": {},
   "outputs": [],
   "source": [
    "from torch import nn\n",
    "from torch.nn import functional as F\n",
    "from torch import optim\n",
    "from torch.utils.data import DataLoader"
   ]
  },
  {
   "cell_type": "code",
   "execution_count": 60,
   "metadata": {},
   "outputs": [
    {
     "name": "stdout",
     "output_type": "stream",
     "text": [
      "the number of your training data (must be 10,000) =  10000\n",
      "the number of your testing data (must be 60,000) =  60000\n"
     ]
    }
   ],
   "source": [
    "print(\"the number of your training data (must be 10,000) = \", data_train.__len__())\n",
    "print(\"the number of your testing data (must be 60,000) = \", data_test.__len__())"
   ]
  },
  {
   "cell_type": "code",
   "execution_count": 61,
   "metadata": {},
   "outputs": [],
   "source": [
    "device = torch.device('cpu')"
   ]
  },
  {
   "cell_type": "code",
   "execution_count": 65,
   "metadata": {},
   "outputs": [],
   "source": [
    "class classification(nn.Module):\n",
    "    def __init__(self):\n",
    "        super(classification, self).__init__()\n",
    "        \n",
    "        # construct layers for a neural network\n",
    "        self.classifier1 = nn.Sequential(\n",
    "            nn.Linear(in_features=28*28, out_features=20*20),\n",
    "            nn.ReLU(),\n",
    "        ) \n",
    "        self.classifier2 = nn.Sequential(\n",
    "            nn.Linear(in_features=20*20, out_features=10*10),\n",
    "            nn.ReLU(),\n",
    "        ) \n",
    "        self.classifier3 = nn.Sequential(\n",
    "            nn.Linear(in_features=10*10, out_features=10),\n",
    "            nn.LogSoftmax(dim=1),\n",
    "        )\n",
    "    \n",
    "    def forward(self, inputs):                 # [batchSize, 1, 28, 28]\n",
    "        x = inputs.view(inputs.size(0), -1)    # [batchSize, 28*28]\n",
    "        x = self.classifier1(x)                # [batchSize, 20*20]\n",
    "        x = self.classifier2(x)                # [batchSize, 10*10]\n",
    "        out = self.classifier3(x)              # [batchSize, 10]\n",
    "        \n",
    "        return out\n"
   ]
  },
  {
   "cell_type": "code",
   "execution_count": 66,
   "metadata": {},
   "outputs": [],
   "source": [
    "criterion = nn.CrossEntropyLoss()\n",
    "classifier = classification().to(device)\n",
    "learning_rate_value = 1e-5\n",
    "optimizer = torch.optim.SGD(classifier.parameters(), lr=learning_rate_value)\n",
    "scheduler = optim.lr_scheduler.ExponentialLR(optimizer, gamma= 0.96)"
   ]
  },
  {
   "cell_type": "code",
   "execution_count": 67,
   "metadata": {},
   "outputs": [],
   "source": [
    "epochs = 100\n",
    "batch_size = 16"
   ]
  },
  {
   "cell_type": "code",
   "execution_count": 68,
   "metadata": {},
   "outputs": [],
   "source": [
    "training_set = torch.utils.data.DataLoader(dataset=data_train, batch_size = batch_size, shuffle=True, drop_last=True) \n",
    "testing_set = torch.utils.data.DataLoader(dataset=data_test, batch_size = batch_size, shuffle=True, drop_last=True)\n",
    "\n",
    "tr_Liters = []\n",
    "tr_Aters = []\n",
    "te_Liters = []\n",
    "te_Aters = []\n",
    "\n",
    "tr_size = len(training_set)\n",
    "te_size = len(testing_set)"
   ]
  },
  {
   "cell_type": "code",
   "execution_count": null,
   "metadata": {},
   "outputs": [],
   "source": [
    "for i in range(epochs):\n",
    "  tr_avg_loss=0\n",
    "  tr_avg_acc=0\n",
    "  te_avg_loss=0\n",
    "  te_avg_acc=0\n",
    "\n",
    "  for x, y in training_set:\n",
    "    x = x.view(-1, 28*28).to(device)\n",
    "    y = y.to(device)\n",
    "    optimizer.zero_grad()\n",
    "    y_pred = classifier(x)\n",
    "    tr_loss = criterion(y_pred, y)\n",
    "    tr_loss.backward()\n",
    "    optimizer.step()\n",
    "    scheduler.step()\n",
    "\n",
    "    tr_avg_loss += tr_loss.item() / tr_size\n",
    "    pred = torch.argmax(y_pred, 1) == y\n",
    "    tr_acc = pred.float().mean()\n",
    "    tr_avg_acc += tr_acc.item() / tr_size\n",
    "\n",
    "  with torch.no_grad():\n",
    "    for x, y in testing_set:\n",
    "      x = x.view(-1, 28*28).to(device)\n",
    "      y = y.to(device)\n",
    "\n",
    "      y_pred = classifier(x)\n",
    "      te_loss = criterion(y_pred, y)\n",
    "\n",
    "      te_avg_loss += te_loss.item() / te_size\n",
    "      pred = torch.argmax(y_pred, 1) == y\n",
    "      te_acc = pred.float().mean()\n",
    "      te_avg_acc += te_acc.item() / te_size\n",
    "  tr_Liters.append(tr_avg_loss)\n",
    "  tr_Aters.append(tr_avg_acc)\n",
    "  te_Liters.append(te_avg_loss)\n",
    "  te_Aters.append(te_avg_acc)\n",
    "  print(i)      \n"
   ]
  },
  {
   "cell_type": "code",
   "execution_count": null,
   "metadata": {},
   "outputs": [],
   "source": [
    "plt.figure(1, figsize=(8, 8))\n",
    "plt.plot(np.array(range(epochs)), tr_Liters, c='r', label='train loss')\n",
    "plt.plot(np.array(range(epochs)), te_Liters, c='b', label='test loss')\n",
    "plt.title('loss')\n",
    "plt.xticks(range(0, epochs, 10))\n",
    "plt.legend()\n",
    "plt.show()"
   ]
  },
  {
   "cell_type": "code",
   "execution_count": null,
   "metadata": {},
   "outputs": [],
   "source": [
    "plt.figure(1, figsize=(8, 8))\n",
    "plt.plot(np.array(range(epochs)), tr_Aters, c='r', label='train accuracy')\n",
    "plt.plot(np.array(range(epochs)), te_Aters, c='b', label='train accuracy')\n",
    "plt.title('accuracy')\n",
    "plt.xticks(range(0, epochs, 10))\n",
    "plt.legend()\n",
    "plt.show()"
   ]
  },
  {
   "cell_type": "code",
   "execution_count": 74,
   "metadata": {},
   "outputs": [
    {
     "name": "stdout",
     "output_type": "stream",
     "text": [
      "2.319487854639686\n",
      "2.3205608272552474\n"
     ]
    }
   ],
   "source": [
    "print(te_Liters[-1])\n",
    "print(tr_Liters[-1])"
   ]
  },
  {
   "cell_type": "code",
   "execution_count": 75,
   "metadata": {},
   "outputs": [
    {
     "data": {
      "text/html": [
       "<div>\n",
       "<style scoped>\n",
       "    .dataframe tbody tr th:only-of-type {\n",
       "        vertical-align: middle;\n",
       "    }\n",
       "\n",
       "    .dataframe tbody tr th {\n",
       "        vertical-align: top;\n",
       "    }\n",
       "\n",
       "    .dataframe thead th {\n",
       "        text-align: right;\n",
       "    }\n",
       "</style>\n",
       "<table border=\"1\" class=\"dataframe\">\n",
       "  <thead>\n",
       "    <tr style=\"text-align: right;\">\n",
       "      <th>loss</th>\n",
       "      <th></th>\n",
       "    </tr>\n",
       "  </thead>\n",
       "  <tbody>\n",
       "    <tr>\n",
       "      <th>training</th>\n",
       "      <td>tensor(2.3009, grad_fn=&lt;AddBackward0&gt;)</td>\n",
       "    </tr>\n",
       "    <tr>\n",
       "      <th>testing</th>\n",
       "      <td>0.112367</td>\n",
       "    </tr>\n",
       "  </tbody>\n",
       "</table>\n",
       "</div>"
      ],
      "text/plain": [
       "loss                                            \n",
       "training  tensor(2.3009, grad_fn=<AddBackward0>)\n",
       "testing                                 0.112367"
      ]
     },
     "execution_count": 75,
     "metadata": {},
     "output_type": "execute_result"
    }
   ],
   "source": [
    "final_loss"
   ]
  },
  {
   "cell_type": "code",
   "execution_count": 76,
   "metadata": {},
   "outputs": [
    {
     "data": {
      "text/html": [
       "<div>\n",
       "<style scoped>\n",
       "    .dataframe tbody tr th:only-of-type {\n",
       "        vertical-align: middle;\n",
       "    }\n",
       "\n",
       "    .dataframe tbody tr th {\n",
       "        vertical-align: top;\n",
       "    }\n",
       "\n",
       "    .dataframe thead th {\n",
       "        text-align: right;\n",
       "    }\n",
       "</style>\n",
       "<table border=\"1\" class=\"dataframe\">\n",
       "  <thead>\n",
       "    <tr style=\"text-align: right;\">\n",
       "      <th>accuracy</th>\n",
       "      <th></th>\n",
       "    </tr>\n",
       "  </thead>\n",
       "  <tbody>\n",
       "    <tr>\n",
       "      <th>training</th>\n",
       "      <td>0.113500</td>\n",
       "    </tr>\n",
       "    <tr>\n",
       "      <th>testing</th>\n",
       "      <td>0.112367</td>\n",
       "    </tr>\n",
       "  </tbody>\n",
       "</table>\n",
       "</div>"
      ],
      "text/plain": [
       "accuracy          \n",
       "training  0.113500\n",
       "testing   0.112367"
      ]
     },
     "execution_count": 76,
     "metadata": {},
     "output_type": "execute_result"
    }
   ],
   "source": [
    "final_acc"
   ]
  },
  {
   "cell_type": "markdown",
   "metadata": {},
   "source": [
    "1. Plot the training and testing losses over epochs [2pt]"
   ]
  },
  {
   "cell_type": "markdown",
   "metadata": {},
   "source": [
    "2. Plot the training and testing accuracies over epochs [2pt]"
   ]
  },
  {
   "cell_type": "markdown",
   "metadata": {},
   "source": [
    "3. Print the final training and testing losses at convergence [2pt]"
   ]
  },
  {
   "cell_type": "markdown",
   "metadata": {},
   "source": [
    "4. Print the final training and testing accuracies at convergence [20pt]"
   ]
  },
  {
   "cell_type": "code",
   "execution_count": null,
   "metadata": {},
   "outputs": [],
   "source": []
  }
 ],
 "metadata": {
  "kernelspec": {
   "display_name": "Python 3",
   "language": "python",
   "name": "python3"
  },
  "language_info": {
   "codemirror_mode": {
    "name": "ipython",
    "version": 3
   },
   "file_extension": ".py",
   "mimetype": "text/x-python",
   "name": "python",
   "nbconvert_exporter": "python",
   "pygments_lexer": "ipython3",
   "version": "3.7.6"
  }
 },
 "nbformat": 4,
 "nbformat_minor": 4
}
