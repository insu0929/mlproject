{
 "cells": [
  {
   "cell_type": "code",
   "execution_count": 1,
   "metadata": {},
   "outputs": [],
   "source": [
    "import numpy as np\n",
    "import matplotlib.pyplot as plt\n",
    "import pandas as pd\n",
    "import math\n",
    "import random\n",
    "\n",
    "data = np.loadtxt('data-pca.txt', delimiter=',')\n",
    "\n",
    "x = data[:,0]\n",
    "y = data[:,1]"
   ]
  },
  {
   "cell_type": "code",
   "execution_count": 9,
   "metadata": {},
   "outputs": [],
   "source": [
    "# function defs\n",
    "\n",
    "def normalize_data(x, y):\n",
    "\n",
    "    xn = (x - np.mean(x)) / np.std(x) # normalize x. the mean of xn is zero and the standard deviation of xn is one #\n",
    "    yn = (y - np.mean(y)) / np.std(y) # normalize y. the mean of yn is zero and the standard deviation of yn is one #\n",
    "\n",
    "    return xn, yn\n",
    "\n",
    "def compute_covariance(x, y):\n",
    "    \n",
    "    Z = np.hstack((xn, yn))\n",
    "    covar = (1/n_data)*(Z.T).dot(Z) # compute the covariance matrix #\n",
    "    \n",
    "    return covar\n",
    "\n",
    "def compute_principal_direction(covariance):\n",
    "    \n",
    "    w, v = np.linalg.eig(covariance)\n",
    "\n",
    "    direction = (v[:,0], v[:,1]) if (w[0] > w[1]) else (v[:, 0], v[:, 1]) # compute the principal directions from the co-variance matrix #\n",
    "    \n",
    "    return direction\n",
    "\n",
    "def compute_projection(point, axis):\n",
    "\n",
    "    projection = point.dot(axis).reshape(50, 1).dot(axis.reshape(1,2))# compute the projection of point on the axis #\n",
    "    \n",
    "    return projection\n",
    "\n",
    "def compute_distance(point1, point2):\n",
    "\n",
    "    distance = math.sqrt((a[0]-b[0])**2+(a[1]-b[1])**2) # compute the Euclidean distance between point1 and point2 #\n",
    "    \n",
    "    return distance"
   ]
  },
  {
   "cell_type": "code",
   "execution_count": 10,
   "metadata": {},
   "outputs": [],
   "source": [
    "n_data = len(x)\n",
    "\n",
    "x = np.array(x).reshape(-1,1)\n",
    "y = np.array(y).reshape(-1,1)"
   ]
  },
  {
   "cell_type": "code",
   "execution_count": 11,
   "metadata": {},
   "outputs": [],
   "source": [
    "xn, yn = normalize_data(x, y)\n",
    "Z = np.hstack((xn, yn))\n",
    "covariance = compute_covariance(xn,yn)"
   ]
  },
  {
   "cell_type": "markdown",
   "metadata": {},
   "source": [
    "1. plot the original data points"
   ]
  },
  {
   "cell_type": "code",
   "execution_count": 5,
   "metadata": {},
   "outputs": [
    {
     "data": {
      "image/png": "[encoded data removed]",
      "text/plain": [
       "<Figure size 576x576 with 1 Axes>"
      ]
     },
     "metadata": {
      "needs_background": "light"
     },
     "output_type": "display_data"
    }
   ],
   "source": [
    "plt.figure(1, figsize=(8, 8))\n",
    "plt.scatter(x, y, c='r', s=80, marker='+')\n",
    "plt.title('original data points')\n",
    "plt.show()"
   ]
  },
  {
   "cell_type": "markdown",
   "metadata": {},
   "source": [
    "2. plot the normalized data points"
   ]
  },
  {
   "cell_type": "code",
   "execution_count": 12,
   "metadata": {},
   "outputs": [
    {
     "data": {
      "image/png": "[encoded data removed]",
      "text/plain": [
       "<Figure size 576x576 with 1 Axes>"
      ]
     },
     "metadata": {
      "needs_background": "light"
     },
     "output_type": "display_data"
    }
   ],
   "source": [
    "plt.figure(1, figsize=(8,8))\n",
    "plt.xlim(-3,3)\n",
    "plt.ylim(-3,3)\n",
    "plt.scatter(xn,yn, c='r', s=80, marker='+')\n",
    "plt.title('data normalized by z-scoring')\n",
    "plt.show()\n"
   ]
  },
  {
   "cell_type": "code",
   "execution_count": null,
   "metadata": {},
   "outputs": [],
   "source": []
  }
 ],
 "metadata": {
  "kernelspec": {
   "display_name": "Python 3",
   "language": "python",
   "name": "python3"
  },
  "language_info": {
   "codemirror_mode": {
    "name": "ipython",
    "version": 3
   },
   "file_extension": ".py",
   "mimetype": "text/x-python",
   "name": "python",
   "nbconvert_exporter": "python",
   "pygments_lexer": "ipython3",
   "version": "3.7.6"
  }
 },
 "nbformat": 4,
 "nbformat_minor": 4
}
