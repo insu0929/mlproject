{
 "cells": [
  {
   "cell_type": "code",
   "execution_count": 15,
   "metadata": {},
   "outputs": [],
   "source": [
    "import numpy as np\n",
    "import matplotlib.pyplot as plt\n",
    "import pandas as pd\n",
    "import math\n",
    "import random\n",
    "\n",
    "\n",
    "dataset = pd.read_csv('data-kmeans.csv')\n",
    "data = dataset.values\n",
    "n_data = data.shape[0]\n",
    "x = data[:, 0]\n",
    "y = data[:, 1]\n",
    "\n",
    "label = np.array([random.randint(0,4) for i in range(n_data)]).reshape(n_data, 1)\n",
    "initial_label = label.copy()\n",
    "\n",
    "class0 = (label[:, 0] == 0)\n",
    "class1 = (label[:, 0] == 1)\n",
    "class2 = (label[:, 0] == 2)\n",
    "class3 = (label[:, 0] == 3)\n",
    "class4 = (label[:, 0] == 4)\n",
    "\n",
    "init_class0 = class0.copy()\n",
    "init_class1 = class1.copy()\n",
    "init_class2 = class2.copy()\n",
    "init_class3 = class3.copy()\n",
    "init_class4 = class4.copy()"
   ]
  },
  {
   "cell_type": "code",
   "execution_count": 16,
   "metadata": {},
   "outputs": [],
   "source": [
    "def compute_distance(a, b):\n",
    "    \n",
    "    dist = math.sqrt( (a[0] - b[0])**2 + (a[1] - b[1])**2 ) #distance between a and b#\n",
    "    return dist\n",
    "\n",
    "def compute_centroid(Z):\n",
    "\n",
    "    center = np.zeros(shape = (5, 2), dtype = np.float64)  #centroid of a set of points in P#\n",
    "    \n",
    "    for i in range(n_data):\n",
    "        center[label[i].item()][0] += Z[i][0]\n",
    "        center[label[i].item()][1] += Z[i][1]\n",
    "        \n",
    "    if np.sum(class0) != 0:\n",
    "        center[0] /= np.sum(class0)\n",
    "    \n",
    "    if np.sum(class1) != 0:\n",
    "        center[1] /= np.sum(class1)\n",
    "        \n",
    "    if np.sum(class2) != 0:\n",
    "        center[2] /= np.sum(class2)\n",
    "        \n",
    "    if np.sum(class3) != 0:\n",
    "        center[3] /= np.sum(class3)\n",
    "        \n",
    "    if np.sum(class4) != 0:\n",
    "        center[4] /= np.sum(class4)\n",
    "\n",
    "    return center\n",
    "\n",
    "def compute_label(z, M):\n",
    "    label = np.zeros(shape =(n_data, 1), dtype = np.int64) #label of point z with a set of centroids M#\n",
    "    \n",
    "    for i in range(n_data):\n",
    "        dist = np.zeros(shape = (5, 1), dtype = np.float64)\n",
    "        dest = z[i]\n",
    "        \n",
    "        for j in range(5):\n",
    "            dist = compute_distance(dest, centroid[j]);\n",
    "        label[i] = dist.argmin()\n",
    "        \n",
    "    class0 = (label[: , 0] == 0)\n",
    "    class1 = (label[: , 0] == 1)\n",
    "    class2 = (label[: , 0] == 2)\n",
    "    class3 = (label[: , 0] == 3)\n",
    "    class4 = (label[: , 0] == 4)\n",
    "    \n",
    "    return label\n",
    "\n",
    "def compute_loss(C, M):\n",
    "    loss = 0\n",
    "    for i in range(n_data):\n",
    "        loss += compute_distance(C[i], M[label[i].item()])\n",
    "    return loss\n",
    "\n",
    "def centroid_of_cluster(c):\n",
    "    distance = np.zeros(shape=(5, 1), dtype = np.float64)\n",
    "    \n",
    "    for i in range(5):\n",
    "        distance[i] = compute_distance([0, 0], c[i])\n",
    "    return distance\n",
    "\n",
    "\n",
    "    "
   ]
  },
  {
   "cell_type": "code",
   "execution_count": 18,
   "metadata": {},
   "outputs": [],
   "source": [
    "n_iter = 100\n",
    "centroid_cluster = np.empty((100, 5, 1))\n",
    "L_iters = []\n",
    "\n",
    "centroid = compute_centroid(data)\n",
    "initial_c = centroid.copy()"
   ]
  },
  {
   "cell_type": "code",
   "execution_count": 19,
   "metadata": {},
   "outputs": [
    {
     "ename": "AttributeError",
     "evalue": "'float' object has no attribute 'argmin'",
     "output_type": "error",
     "traceback": [
      "\u001b[0;31m---------------------------------------------------------------------------\u001b[0m",
      "\u001b[0;31mAttributeError\u001b[0m                            Traceback (most recent call last)",
      "\u001b[0;32m<ipython-input-19-f41c68bfa65d>\u001b[0m in \u001b[0;36m<module>\u001b[0;34m\u001b[0m\n\u001b[1;32m      2\u001b[0m     \u001b[0mL_iters\u001b[0m\u001b[0;34m.\u001b[0m\u001b[0mappend\u001b[0m\u001b[0;34m(\u001b[0m\u001b[0mcompute_loss\u001b[0m\u001b[0;34m(\u001b[0m\u001b[0mdata\u001b[0m\u001b[0;34m,\u001b[0m \u001b[0mcentroid\u001b[0m\u001b[0;34m)\u001b[0m\u001b[0;34m)\u001b[0m\u001b[0;34m\u001b[0m\u001b[0;34m\u001b[0m\u001b[0m\n\u001b[1;32m      3\u001b[0m     \u001b[0mcentroid_cluster\u001b[0m\u001b[0;34m[\u001b[0m\u001b[0mi\u001b[0m\u001b[0;34m]\u001b[0m \u001b[0;34m=\u001b[0m \u001b[0mcentroid_of_cluster\u001b[0m\u001b[0;34m(\u001b[0m\u001b[0mcentroid\u001b[0m\u001b[0;34m)\u001b[0m\u001b[0;34m\u001b[0m\u001b[0;34m\u001b[0m\u001b[0m\n\u001b[0;32m----> 4\u001b[0;31m     \u001b[0mlabel\u001b[0m \u001b[0;34m=\u001b[0m \u001b[0mcompute_label\u001b[0m\u001b[0;34m(\u001b[0m\u001b[0mdata\u001b[0m\u001b[0;34m,\u001b[0m \u001b[0mcentroid\u001b[0m\u001b[0;34m)\u001b[0m\u001b[0;34m\u001b[0m\u001b[0;34m\u001b[0m\u001b[0m\n\u001b[0m\u001b[1;32m      5\u001b[0m     \u001b[0mcentroid\u001b[0m \u001b[0;34m=\u001b[0m \u001b[0mcompute_centroid\u001b[0m\u001b[0;34m(\u001b[0m\u001b[0mdata\u001b[0m\u001b[0;34m)\u001b[0m\u001b[0;34m\u001b[0m\u001b[0;34m\u001b[0m\u001b[0m\n\u001b[1;32m      6\u001b[0m \u001b[0;34m\u001b[0m\u001b[0m\n",
      "\u001b[0;32m<ipython-input-16-f6d49a55cf27>\u001b[0m in \u001b[0;36mcompute_label\u001b[0;34m(z, M)\u001b[0m\n\u001b[1;32m     38\u001b[0m         \u001b[0;32mfor\u001b[0m \u001b[0mj\u001b[0m \u001b[0;32min\u001b[0m \u001b[0mrange\u001b[0m\u001b[0;34m(\u001b[0m\u001b[0;36m5\u001b[0m\u001b[0;34m)\u001b[0m\u001b[0;34m:\u001b[0m\u001b[0;34m\u001b[0m\u001b[0;34m\u001b[0m\u001b[0m\n\u001b[1;32m     39\u001b[0m             \u001b[0mdist\u001b[0m \u001b[0;34m=\u001b[0m \u001b[0mcompute_distance\u001b[0m\u001b[0;34m(\u001b[0m\u001b[0mdest\u001b[0m\u001b[0;34m,\u001b[0m \u001b[0mcentroid\u001b[0m\u001b[0;34m[\u001b[0m\u001b[0mj\u001b[0m\u001b[0;34m]\u001b[0m\u001b[0;34m)\u001b[0m\u001b[0;34m;\u001b[0m\u001b[0;34m\u001b[0m\u001b[0;34m\u001b[0m\u001b[0m\n\u001b[0;32m---> 40\u001b[0;31m         \u001b[0mlabel\u001b[0m\u001b[0;34m[\u001b[0m\u001b[0mi\u001b[0m\u001b[0;34m]\u001b[0m \u001b[0;34m=\u001b[0m \u001b[0mdist\u001b[0m\u001b[0;34m.\u001b[0m\u001b[0margmin\u001b[0m\u001b[0;34m(\u001b[0m\u001b[0;34m)\u001b[0m\u001b[0;34m\u001b[0m\u001b[0;34m\u001b[0m\u001b[0m\n\u001b[0m\u001b[1;32m     41\u001b[0m \u001b[0;34m\u001b[0m\u001b[0m\n\u001b[1;32m     42\u001b[0m     \u001b[0mclass0\u001b[0m \u001b[0;34m=\u001b[0m \u001b[0;34m(\u001b[0m\u001b[0mlabel\u001b[0m\u001b[0;34m[\u001b[0m\u001b[0;34m:\u001b[0m \u001b[0;34m,\u001b[0m \u001b[0;36m0\u001b[0m\u001b[0;34m]\u001b[0m \u001b[0;34m==\u001b[0m \u001b[0;36m0\u001b[0m\u001b[0;34m)\u001b[0m\u001b[0;34m\u001b[0m\u001b[0;34m\u001b[0m\u001b[0m\n",
      "\u001b[0;31mAttributeError\u001b[0m: 'float' object has no attribute 'argmin'"
     ]
    }
   ],
   "source": [
    "for i in range(n_iter):\n",
    "    L_iters.append(compute_loss(data, centroid))\n",
    "    centroid_cluster[i] = centroid_of_cluster(centroid)\n",
    "    label = compute_label(data, centroid)\n",
    "    centroid = compute_centroid(data)\n",
    "    "
   ]
  },
  {
   "cell_type": "markdown",
   "metadata": {},
   "source": [
    "1. Plot the data points"
   ]
  },
  {
   "cell_type": "code",
   "execution_count": 10,
   "metadata": {},
   "outputs": [
    {
     "data": {
      "image/png": "[encoded data removed]",
      "text/plain": [
       "<Figure size 360x360 with 1 Axes>"
      ]
     },
     "metadata": {
      "needs_background": "light"
     },
     "output_type": "display_data"
    }
   ],
   "source": [
    "plt.figure(1, figsize = (5, 5))\n",
    "plt.scatter(x, y, c = 'black', s = 80, marker = '.', label = 'data')\n",
    "plt.title('data point')\n",
    "plt.legend()\n",
    "plt.show()"
   ]
  },
  {
   "cell_type": "code",
   "execution_count": null,
   "metadata": {},
   "outputs": [],
   "source": []
  }
 ],
 "metadata": {
  "kernelspec": {
   "display_name": "Python 3",
   "language": "python",
   "name": "python3"
  },
  "language_info": {
   "codemirror_mode": {
    "name": "ipython",
    "version": 3
   },
   "file_extension": ".py",
   "mimetype": "text/x-python",
   "name": "python",
   "nbconvert_exporter": "python",
   "pygments_lexer": "ipython3",
   "version": "3.7.6"
  }
 },
 "nbformat": 4,
 "nbformat_minor": 4
}
