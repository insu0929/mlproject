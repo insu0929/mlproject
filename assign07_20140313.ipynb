{
 "cells": [
  {
   "cell_type": "code",
   "execution_count": 15,
   "metadata": {},
   "outputs": [],
   "source": [
    "import numpy as np\n",
    "import matplotlib.pyplot as plt\n",
    "import pandas as pd\n",
    "import math\n",
    "import random\n",
    "\n",
    "\n",
    "dataset = pd.read_csv('data-kmeans.csv')\n",
    "data = dataset.values\n",
    "n_data = data.shape[0]\n",
    "x = data[:, 0]\n",
    "y = data[:, 1]\n",
    "\n",
    "label = np.array([random.randint(0,4) for i in range(n_data)]).reshape(n_data, 1)\n",
    "initial_label = label.copy()\n",
    "\n",
    "class0 = (label[:, 0] == 0)\n",
    "class1 = (label[:, 0] == 1)\n",
    "class2 = (label[:, 0] == 2)\n",
    "class3 = (label[:, 0] == 3)\n",
    "class4 = (label[:, 0] == 4)\n",
    "\n",
    "init_class0 = class0.copy()\n",
    "init_class1 = class1.copy()\n",
    "init_class2 = class2.copy()\n",
    "init_class3 = class3.copy()\n",
    "init_class4 = class4.copy()"
   ]
  },
  {
   "cell_type": "code",
   "execution_count": 20,
   "metadata": {},
   "outputs": [],
   "source": [
    "def compute_distance(a, b):\n",
    "    \n",
    "    dist = math.sqrt( (a[0] - b[0])**2 + (a[1] - b[1])**2 ) #distance between a and b#\n",
    "    return dist\n",
    "\n",
    "def compute_centroid(Z):\n",
    "\n",
    "    center = np.zeros(shape = (5, 2), dtype = np.float64)  #centroid of a set of points in P#\n",
    "    \n",
    "    for i in range(n_data):\n",
    "        center[label[i].item()][0] += Z[i][0]\n",
    "        center[label[i].item()][1] += Z[i][1]\n",
    "        \n",
    "    if np.sum(class0) != 0:\n",
    "        center[0] /= np.sum(class0)\n",
    "    \n",
    "    if np.sum(class1) != 0:\n",
    "        center[1] /= np.sum(class1)\n",
    "        \n",
    "    if np.sum(class2) != 0:\n",
    "        center[2] /= np.sum(class2)\n",
    "        \n",
    "    if np.sum(class3) != 0:\n",
    "        center[3] /= np.sum(class3)\n",
    "        \n",
    "    if np.sum(class4) != 0:\n",
    "        center[4] /= np.sum(class4)\n",
    "\n",
    "    return center\n",
    "\n",
    "def compute_label(z, M):\n",
    "    label = np.zeros(shape =(n_data, 1), dtype = np.int64) #label of point z with a set of centroids M#\n",
    "    \n",
    "    for i in range(n_data):\n",
    "        dist = np.zeros(shape = (5, 1), dtype = np.float64)\n",
    "        dest = z[i]\n",
    "        \n",
    "        for j in range(5):\n",
    "            dist[j] = compute_distance(dest, centroid[j]);\n",
    "        label[i] = dist.argmin()\n",
    "        \n",
    "    class0 = (label[: , 0] == 0)\n",
    "    class1 = (label[: , 0] == 1)\n",
    "    class2 = (label[: , 0] == 2)\n",
    "    class3 = (label[: , 0] == 3)\n",
    "    class4 = (label[: , 0] == 4)\n",
    "    \n",
    "    return label\n",
    "\n",
    "def compute_loss(C, M):\n",
    "    loss = 0\n",
    "    for i in range(n_data):\n",
    "        loss += compute_distance(C[i], M[label[i].item()])\n",
    "    return loss\n",
    "\n",
    "def centroid_of_cluster(c):\n",
    "    distance = np.zeros(shape=(5, 1), dtype = np.float64)\n",
    "    \n",
    "    for i in range(5):\n",
    "        distance[i] = compute_distance([0, 0], c[i])\n",
    "    return distance\n",
    "\n",
    "\n",
    "    "
   ]
  },
  {
   "cell_type": "code",
   "execution_count": 21,
   "metadata": {},
   "outputs": [],
   "source": [
    "n_iter = 100\n",
    "centroid_cluster = np.empty((100, 5, 1))\n",
    "L_iters = []\n",
    "\n",
    "centroid = compute_centroid(data)\n",
    "initial_c = centroid.copy()"
   ]
  },
  {
   "cell_type": "code",
   "execution_count": 22,
   "metadata": {},
   "outputs": [],
   "source": [
    "for i in range(n_iter):\n",
    "    L_iters.append(compute_loss(data, centroid))\n",
    "    centroid_cluster[i] = centroid_of_cluster(centroid)\n",
    "    label = compute_label(data, centroid)\n",
    "    centroid = compute_centroid(data)\n",
    "    "
   ]
  },
  {
   "cell_type": "markdown",
   "metadata": {},
   "source": [
    "1. Plot the data points"
   ]
  },
  {
   "cell_type": "code",
   "execution_count": 10,
   "metadata": {},
   "outputs": [
    {
     "data": {
      "image/png": "[encoded data removed]",
      "text/plain": [
       "<Figure size 360x360 with 1 Axes>"
      ]
     },
     "metadata": {
      "needs_background": "light"
     },
     "output_type": "display_data"
    }
   ],
   "source": [
    "plt.figure(1, figsize = (5, 5))\n",
    "plt.scatter(x, y, c = 'black', s = 80, marker = '.', label = 'data')\n",
    "plt.title('data point')\n",
    "plt.legend()\n",
    "plt.show()"
   ]
  },
  {
   "cell_type": "code",
   "execution_count": 23,
   "metadata": {},
   "outputs": [
    {
     "ename": "NameError",
     "evalue": "name 'inital_c' is not defined",
     "output_type": "error",
     "traceback": [
      "\u001b[0;31m---------------------------------------------------------------------------\u001b[0m",
      "\u001b[0;31mNameError\u001b[0m                                 Traceback (most recent call last)",
      "\u001b[0;32m<ipython-input-23-28cc10a28d70>\u001b[0m in \u001b[0;36m<module>\u001b[0;34m\u001b[0m\n\u001b[1;32m      5\u001b[0m \u001b[0mplt\u001b[0m\u001b[0;34m.\u001b[0m\u001b[0mscatter\u001b[0m\u001b[0;34m(\u001b[0m\u001b[0mx\u001b[0m\u001b[0;34m[\u001b[0m\u001b[0minit_class3\u001b[0m\u001b[0;34m]\u001b[0m\u001b[0;34m,\u001b[0m \u001b[0my\u001b[0m\u001b[0;34m[\u001b[0m\u001b[0minit_class3\u001b[0m\u001b[0;34m]\u001b[0m\u001b[0;34m,\u001b[0m \u001b[0mc\u001b[0m\u001b[0;34m=\u001b[0m\u001b[0;34m'cyan'\u001b[0m\u001b[0;34m,\u001b[0m \u001b[0ms\u001b[0m\u001b[0;34m=\u001b[0m\u001b[0;36m80\u001b[0m\u001b[0;34m,\u001b[0m \u001b[0mmarker\u001b[0m\u001b[0;34m=\u001b[0m\u001b[0;34m'.'\u001b[0m\u001b[0;34m,\u001b[0m \u001b[0mlabel\u001b[0m\u001b[0;34m=\u001b[0m\u001b[0;34m'Cluster 4'\u001b[0m\u001b[0;34m)\u001b[0m\u001b[0;34m\u001b[0m\u001b[0;34m\u001b[0m\u001b[0m\n\u001b[1;32m      6\u001b[0m \u001b[0mplt\u001b[0m\u001b[0;34m.\u001b[0m\u001b[0mscatter\u001b[0m\u001b[0;34m(\u001b[0m\u001b[0mx\u001b[0m\u001b[0;34m[\u001b[0m\u001b[0minit_class4\u001b[0m\u001b[0;34m]\u001b[0m\u001b[0;34m,\u001b[0m \u001b[0my\u001b[0m\u001b[0;34m[\u001b[0m\u001b[0minit_class4\u001b[0m\u001b[0;34m]\u001b[0m\u001b[0;34m,\u001b[0m \u001b[0mc\u001b[0m\u001b[0;34m=\u001b[0m\u001b[0;34m'violet'\u001b[0m\u001b[0;34m,\u001b[0m \u001b[0ms\u001b[0m\u001b[0;34m=\u001b[0m\u001b[0;36m80\u001b[0m\u001b[0;34m,\u001b[0m \u001b[0mmarker\u001b[0m\u001b[0;34m=\u001b[0m\u001b[0;34m'.'\u001b[0m\u001b[0;34m,\u001b[0m \u001b[0mlabel\u001b[0m\u001b[0;34m=\u001b[0m\u001b[0;34m'Cluster 5'\u001b[0m\u001b[0;34m)\u001b[0m\u001b[0;34m\u001b[0m\u001b[0;34m\u001b[0m\u001b[0m\n\u001b[0;32m----> 7\u001b[0;31m \u001b[0mplt\u001b[0m\u001b[0;34m.\u001b[0m\u001b[0mscatter\u001b[0m\u001b[0;34m(\u001b[0m\u001b[0minitial_c\u001b[0m\u001b[0;34m[\u001b[0m\u001b[0;34m:\u001b[0m\u001b[0;34m,\u001b[0m \u001b[0;36m0\u001b[0m\u001b[0;34m]\u001b[0m\u001b[0;34m,\u001b[0m \u001b[0minital_c\u001b[0m\u001b[0;34m[\u001b[0m\u001b[0;34m:\u001b[0m\u001b[0;34m,\u001b[0m \u001b[0;36m1\u001b[0m\u001b[0;34m]\u001b[0m\u001b[0;34m,\u001b[0m \u001b[0mc\u001b[0m\u001b[0;34m=\u001b[0m\u001b[0;34m'black'\u001b[0m\u001b[0;34m,\u001b[0m \u001b[0ms\u001b[0m\u001b[0;34m=\u001b[0m\u001b[0;36m200\u001b[0m\u001b[0;34m,\u001b[0m \u001b[0mmarker\u001b[0m\u001b[0;34m=\u001b[0m\u001b[0;34m'+'\u001b[0m\u001b[0;34m,\u001b[0m \u001b[0mlabel\u001b[0m\u001b[0;34m=\u001b[0m\u001b[0;34m'Centroids'\u001b[0m\u001b[0;34m)\u001b[0m\u001b[0;34m\u001b[0m\u001b[0;34m\u001b[0m\u001b[0m\n\u001b[0m\u001b[1;32m      8\u001b[0m \u001b[0mplt\u001b[0m\u001b[0;34m.\u001b[0m\u001b[0mtitle\u001b[0m\u001b[0;34m(\u001b[0m\u001b[0;34m'Initial cluster'\u001b[0m\u001b[0;34m)\u001b[0m\u001b[0;34m\u001b[0m\u001b[0;34m\u001b[0m\u001b[0m\n\u001b[1;32m      9\u001b[0m \u001b[0mplt\u001b[0m\u001b[0;34m.\u001b[0m\u001b[0mshow\u001b[0m\u001b[0;34m(\u001b[0m\u001b[0;34m)\u001b[0m\u001b[0;34m\u001b[0m\u001b[0;34m\u001b[0m\u001b[0m\n",
      "\u001b[0;31mNameError\u001b[0m: name 'inital_c' is not defined"
     ]
    },
    {
     "data": {
      "image/png": "[encoded data removed]",
      "text/plain": [
       "<Figure size 360x360 with 1 Axes>"
      ]
     },
     "metadata": {
      "needs_background": "light"
     },
     "output_type": "display_data"
    }
   ],
   "source": [
    "plt.figure(1, figsize = (5, 5))\n",
    "plt.scatter(x[init_class0], y[init_class0], c='red', s=80, marker='.', label='Cluster 1')\n",
    "plt.scatter(x[init_class1], y[init_class1], c='blue', s=80, marker='.', label='Cluster 2')\n",
    "plt.scatter(x[init_class2], y[init_class2], c='green', s=80, marker='.', label='Cluster 3')\n",
    "plt.scatter(x[init_class3], y[init_class3], c='cyan', s=80, marker='.', label='Cluster 4')\n",
    "plt.scatter(x[init_class4], y[init_class4], c='violet', s=80, marker='.', label='Cluster 5')\n",
    "plt.scatter(initial_c[:, 0], inital_c[:, 1], c='black', s=200, marker='+', label='Centroids')   \n",
    "plt.title('Initial cluster')\n",
    "plt.show()"
   ]
  },
  {
   "cell_type": "code",
   "execution_count": null,
   "metadata": {},
   "outputs": [],
   "source": []
  }
 ],
 "metadata": {
  "kernelspec": {
   "display_name": "Python 3",
   "language": "python",
   "name": "python3"
  },
  "language_info": {
   "codemirror_mode": {
    "name": "ipython",
    "version": 3
   },
   "file_extension": ".py",
   "mimetype": "text/x-python",
   "name": "python",
   "nbconvert_exporter": "python",
   "pygments_lexer": "ipython3",
   "version": "3.7.6"
  }
 },
 "nbformat": 4,
 "nbformat_minor": 4
}
