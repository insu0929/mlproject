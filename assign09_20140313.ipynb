{
 "cells": [
  {
   "cell_type": "code",
   "execution_count": 2,
   "metadata": {},
   "outputs": [],
   "source": [
    "import numpy as np\n",
    "import math\n",
    "import torch\n",
    "import pandas as pd\n",
    "import matplotlib.pyplot as plt\n",
    "from torchvision import datasets, transforms"
   ]
  },
  {
   "cell_type": "code",
   "execution_count": 3,
   "metadata": {},
   "outputs": [],
   "source": [
    "transform = transforms.Compose([\n",
    "transforms.ToTensor(),\n",
    "transforms.Normalize((0.1307,),(0.3081,)), # mean value = 0.1307, standard deviation value = 0.3081\n",
    "])"
   ]
  },
  {
   "cell_type": "code",
   "execution_count": 4,
   "metadata": {
    "scrolled": true
   },
   "outputs": [],
   "source": [
    "data_path = './MNIST'\n",
    "\n",
    "training_set = datasets.MNIST(root = data_path, train= True, download=True, transform= transform)\n",
    "testing_set = datasets.MNIST(root = data_path, train= False, download=True, transform= transform)"
   ]
  },
  {
   "cell_type": "code",
   "execution_count": 7,
   "metadata": {},
   "outputs": [],
   "source": [
    "from torch import nn\n",
    "from torch.nn import functional as F"
   ]
  },
  {
   "cell_type": "code",
   "execution_count": 30,
   "metadata": {},
   "outputs": [],
   "source": [
    "class classification(nn.Module):\n",
    "    def __init__(self):\n",
    "        super(classification, self).__init__()\n",
    "        \n",
    "        # construct layers for a neural network\n",
    "        self.classifier1 = nn.Sequential(\n",
    "            nn.Linear(in_features=28*28, out_features=20*20),\n",
    "            nn.Sigmoid(),\n",
    "        ) \n",
    "        self.classifier2 = nn.Sequential(\n",
    "            nn.Linear(in_features=20*20, out_features=10*10),\n",
    "            nn.Sigmoid(),\n",
    "        ) \n",
    "        self.classifier3 = nn.Sequential(\n",
    "            nn.Linear(in_features=10*10, out_features=10),\n",
    "            nn.LogSoftmax(dim=1),\n",
    "        ) \n",
    "        \n",
    "        \n",
    "    def forward(self, inputs):                 # [batchSize, 1, 28, 28]\n",
    "        x = inputs.view(inputs.size(0), -1)    # [batchSize, 28*28]\n",
    "        x = self.classifier1(x)                # [batchSize, 20*20]\n",
    "        x = self.classifier2(x)                # [batchSize, 10*10]\n",
    "        out = self.classifier3(x)              # [batchSize, 10]\n",
    "        \n",
    "        return out\n"
   ]
  },
  {
   "cell_type": "code",
   "execution_count": 31,
   "metadata": {},
   "outputs": [],
   "source": [
    "device = torch.device('cpu')"
   ]
  },
  {
   "cell_type": "code",
   "execution_count": 32,
   "metadata": {},
   "outputs": [],
   "source": [
    "criterion = nn.NLLLoss()\n",
    "classifier = classification().to(device)\n",
    "learning_rate_value = 0.01\n",
    "optimizer = torch.optim.SGD(classifier.parameters(), lr=learning_rate_value)"
   ]
  },
  {
   "cell_type": "code",
   "execution_count": 33,
   "metadata": {},
   "outputs": [],
   "source": [
    "def calc(epochs, tr_data_set, te_dataset):\n",
    "    tr_loss_Liters = []\n",
    "    tr_acc_Liters = []\n",
    "    te_loss_Liters = []\n",
    "    te_acc_Liters = []\n",
    "    \n",
    "    for i in range (epochs):\n",
    "        tr_avg_loss = 0\n",
    "        tr_avg_acc = 0\n",
    "        te_avg_loss =0\n",
    "        te_avg_acc = 0\n",
    "        \n",
    "        for x, y in tr_data_set:\n",
    "            x = x.view(-1, 28*28).to(device)\n",
    "            y = y.to(device)\n",
    "            optimizer.zero_grad()\n",
    "            y_pred = classifier(x)\n",
    "            tr_loss = criterion(y_pred, y)\n",
    "            tr_loss.backward()\n",
    "            optimizer.step()\n",
    "            \n",
    "            tr_avg_loss += tr_loss / len(tr_data_set)\n",
    "            pred = torch.argmax(y_pred, 1) == y\n",
    "            tr_acc = pred.float().mean()\n",
    "            tr_avg_acc += tr_acc.item() / len(tr_data_set)\n",
    "            \n",
    "        for x,y in te_dataset:\n",
    "            x = x.view(-1, 28*28).to(device)\n",
    "            y = y.to(device)\n",
    "            y_pred = classifier(x)\n",
    "            te_loss = criterion(y_pred, y)\n",
    "            \n",
    "            te_avg_loss += te_loss / len(te_dataset)\n",
    "            pred = torch.argmax(y_pred, 1) == y\n",
    "            te_acc = pred.float().mean()\n",
    "            te_avg_acc += te_acc.item() / len(te_dataset)\n",
    "            \n",
    "        \n",
    "        tr_loss_Liters.append(tr_avg_loss)\n",
    "        tr_acc_Liters.append(tr_avg_acc)\n",
    "        te_loss_Liters.append(te_avg_loss)\n",
    "        te_acc_Liters.append(te_avg_acc)\n",
    "        print(i)\n",
    "        \n",
    "    return tr_loss_Liters, tr_acc_Liters, te_loss_Liters, te_acc_Liters\n",
    "            "
   ]
  },
  {
   "cell_type": "code",
   "execution_count": 34,
   "metadata": {},
   "outputs": [
    {
     "name": "stdout",
     "output_type": "stream",
     "text": [
      "0\n",
      "1\n",
      "2\n",
      "3\n",
      "4\n",
      "5\n",
      "6\n",
      "7\n",
      "8\n",
      "9\n",
      "10\n",
      "11\n",
      "12\n",
      "13\n",
      "14\n",
      "15\n",
      "16\n",
      "17\n",
      "18\n",
      "19\n",
      "20\n",
      "21\n",
      "22\n",
      "23\n",
      "24\n",
      "25\n",
      "26\n",
      "27\n",
      "28\n",
      "29\n",
      "30\n",
      "31\n",
      "32\n",
      "33\n",
      "34\n",
      "35\n",
      "36\n",
      "37\n",
      "38\n",
      "39\n",
      "40\n",
      "41\n",
      "42\n",
      "43\n",
      "44\n",
      "45\n",
      "46\n",
      "47\n",
      "48\n",
      "49\n",
      "50\n",
      "51\n",
      "52\n",
      "53\n",
      "54\n",
      "55\n",
      "56\n",
      "57\n",
      "58\n",
      "59\n"
     ]
    }
   ],
   "source": [
    "#optimization\n",
    "#stochastic gradient descent with batch size 32\n",
    "batch_size = 32\n",
    "epochs = 60\n",
    "\n",
    "#train data\n",
    "training_set_32 = torch.utils.data.DataLoader(dataset = training_set, batch_size = batch_size, shuffle = True, drop_last = True)\n",
    "testing_set_32 = torch.utils.data.DataLoader(dataset = testing_set, batch_size = batch_size, shuffle = True, drop_last = True)\n",
    "\n",
    "tr_loss_32 = []\n",
    "tr_accs_32 = []\n",
    "te_loss_32 = []\n",
    "te_accs_32 = []\n",
    "\n",
    "tr_loss_32, tr_acc_32, te_loss_32, te_acc_32 = calc(epochs, training_set_32, testing_set_32)"
   ]
  },
  {
   "cell_type": "code",
   "execution_count": 36,
   "metadata": {},
   "outputs": [
    {
     "name": "stdout",
     "output_type": "stream",
     "text": [
      "0\n",
      "1\n",
      "2\n",
      "3\n",
      "4\n",
      "5\n",
      "6\n",
      "7\n",
      "8\n",
      "9\n",
      "10\n",
      "11\n",
      "12\n",
      "13\n",
      "14\n",
      "15\n",
      "16\n",
      "17\n",
      "18\n",
      "19\n",
      "20\n",
      "21\n",
      "22\n",
      "23\n",
      "24\n",
      "25\n",
      "26\n",
      "27\n",
      "28\n",
      "29\n",
      "30\n",
      "31\n",
      "32\n",
      "33\n",
      "34\n",
      "35\n",
      "36\n",
      "37\n",
      "38\n",
      "39\n",
      "40\n",
      "41\n",
      "42\n",
      "43\n",
      "44\n",
      "45\n",
      "46\n",
      "47\n",
      "48\n",
      "49\n",
      "50\n",
      "51\n",
      "52\n",
      "53\n",
      "54\n",
      "55\n",
      "56\n",
      "57\n",
      "58\n",
      "59\n"
     ]
    }
   ],
   "source": [
    "#optimization\n",
    "#stochastic gradient descent with batch size 32\n",
    "batch_size = 64\n",
    "epochs = 60\n",
    "\n",
    "#train data\n",
    "training_set_64 = torch.utils.data.DataLoader(dataset = training_set, batch_size = batch_size, shuffle = True, drop_last = True)\n",
    "testing_set_64 = torch.utils.data.DataLoader(dataset = testing_set, batch_size = batch_size, shuffle = True, drop_last = True)\n",
    "\n",
    "tr_loss_64 = []\n",
    "tr_accs_64 = []\n",
    "te_loss_64 = []\n",
    "te_accs_64 = []\n",
    "\n",
    "tr_loss_64, tr_acc_64, te_loss_64, te_acc_64 = calc(epochs, training_set_64, testing_set_64)"
   ]
  },
  {
   "cell_type": "code",
   "execution_count": null,
   "metadata": {},
   "outputs": [],
   "source": [
    "#optimization\n",
    "#stochastic gradient descent with batch size 32\n",
    "batch_size = 128\n",
    "epochs = 60\n",
    "\n",
    "#train data\n",
    "training_set_128 = torch.utils.data.DataLoader(dataset = training_set, batch_size = batch_size, shuffle = True, drop_last = True)\n",
    "testing_set_128 = torch.utils.data.DataLoader(dataset = testing_set, batch_size = batch_size, shuffle = True, drop_last = True)\n",
    "\n",
    "tr_loss_128 = []\n",
    "tr_accs_128 = []\n",
    "te_loss_128 = []\n",
    "te_accs_128 = []\n",
    "\n",
    "tr_loss_128, tr_acc_128, te_loss_128, te_acc_128 = calc(epochs, training_set_128, testing_set_128)"
   ]
  },
  {
   "cell_type": "markdown",
   "metadata": {},
   "source": [
    "1. Plot the training and testing losses with a batch size of 32"
   ]
  },
  {
   "cell_type": "code",
   "execution_count": 35,
   "metadata": {},
   "outputs": [
    {
     "data": {
      "image/png": "[encoded data removed]",
      "text/plain": [
       "<Figure size 576x576 with 1 Axes>"
      ]
     },
     "metadata": {
      "needs_background": "light"
     },
     "output_type": "display_data"
    }
   ],
   "source": [
    "plt.figure(1, figsize = (8, 8))\n",
    "plt.plot(np.array(range(epochs)), tr_loss_32, c='r', label='train loss')\n",
    "plt.plot(np.array(range(epochs)), te_loss_32, c='b', label='test loss')\n",
    "plt.title('Batch Size = 32 \\n loss')\n",
    "plt.xticks(range(0, epochs, 10))\n",
    "plt.legend()\n",
    "plt.show()\n"
   ]
  },
  {
   "cell_type": "markdown",
   "metadata": {},
   "source": [
    "2. Plot the training and testing accuracies with a batch size of 32"
   ]
  },
  {
   "cell_type": "code",
   "execution_count": 38,
   "metadata": {},
   "outputs": [
    {
     "data": {
      "image/png": "[encoded data removed]",
      "text/plain": [
       "<Figure size 576x576 with 1 Axes>"
      ]
     },
     "metadata": {
      "needs_background": "light"
     },
     "output_type": "display_data"
    }
   ],
   "source": [
    "plt.figure(1, figsize = (8, 8))\n",
    "plt.plot(np.array(range(epochs)), tr_acc_32, c='r', label='train accuracy')\n",
    "plt.plot(np.array(range(epochs)), te_acc_32, c='b', label='test accuracy')\n",
    "plt.title('Batch Size = 32 \\n accuracy')\n",
    "plt.xticks(range(0, epochs, 10))\n",
    "plt.legend()\n",
    "plt.show()"
   ]
  },
  {
   "cell_type": "markdown",
   "metadata": {},
   "source": [
    "3. Plot the training and testing losses with a batch size of 64"
   ]
  },
  {
   "cell_type": "code",
   "execution_count": 39,
   "metadata": {},
   "outputs": [
    {
     "data": {
      "image/png": "[encoded data removed]",
      "text/plain": [
       "<Figure size 576x576 with 1 Axes>"
      ]
     },
     "metadata": {
      "needs_background": "light"
     },
     "output_type": "display_data"
    }
   ],
   "source": [
    "plt.figure(1, figsize = (8, 8))\n",
    "plt.plot(np.array(range(epochs)), tr_loss_64, c='r', label='train loss')\n",
    "plt.plot(np.array(range(epochs)), te_loss_64, c='b', label='test loss')\n",
    "plt.title('Batch Size = 64 \\n loss')\n",
    "plt.xticks(range(0, epochs, 10))\n",
    "plt.legend()\n",
    "plt.show()"
   ]
  },
  {
   "cell_type": "markdown",
   "metadata": {},
   "source": [
    "4. Plot the training and testing accuracies with a batch size of 64"
   ]
  },
  {
   "cell_type": "code",
   "execution_count": 40,
   "metadata": {},
   "outputs": [
    {
     "data": {
      "image/png": "[encoded data removed]",
      "text/plain": [
       "<Figure size 576x576 with 1 Axes>"
      ]
     },
     "metadata": {
      "needs_background": "light"
     },
     "output_type": "display_data"
    }
   ],
   "source": [
    "plt.figure(1, figsize = (8, 8))\n",
    "plt.plot(np.array(range(epochs)), tr_acc_64, c='r', label='train accuracy')\n",
    "plt.plot(np.array(range(epochs)), te_acc_64, c='b', label='test accuracy')\n",
    "plt.title('Batch Size = 64 \\n accuracy')\n",
    "plt.xticks(range(0, epochs, 10))\n",
    "plt.legend()\n",
    "plt.show()"
   ]
  },
  {
   "cell_type": "markdown",
   "metadata": {},
   "source": [
    "5. Plot the training and testing losses with a batch size of 128"
   ]
  },
  {
   "cell_type": "code",
   "execution_count": null,
   "metadata": {},
   "outputs": [],
   "source": []
  },
  {
   "cell_type": "markdown",
   "metadata": {},
   "source": [
    "6. Plot the training and testing accuracies with a batch size of 128"
   ]
  },
  {
   "cell_type": "code",
   "execution_count": null,
   "metadata": {},
   "outputs": [],
   "source": []
  },
  {
   "cell_type": "markdown",
   "metadata": {},
   "source": [
    "7. Print the loss at convergence with different mini-batch-sizes"
   ]
  },
  {
   "cell_type": "code",
   "execution_count": null,
   "metadata": {},
   "outputs": [],
   "source": []
  },
  {
   "cell_type": "markdown",
   "metadata": {},
   "source": [
    "8.Print the accuracy at convergence with different mini-batch-sizes"
   ]
  },
  {
   "cell_type": "code",
   "execution_count": null,
   "metadata": {},
   "outputs": [],
   "source": []
  }
 ],
 "metadata": {
  "kernelspec": {
   "display_name": "Python 3",
   "language": "python",
   "name": "python3"
  },
  "language_info": {
   "codemirror_mode": {
    "name": "ipython",
    "version": 3
   },
   "file_extension": ".py",
   "mimetype": "text/x-python",
   "name": "python",
   "nbconvert_exporter": "python",
   "pygments_lexer": "ipython3",
   "version": "3.7.6"
  }
 },
 "nbformat": 4,
 "nbformat_minor": 4
}
