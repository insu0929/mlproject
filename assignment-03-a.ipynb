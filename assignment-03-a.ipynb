{
 "cells": [
  {
   "cell_type": "markdown",
   "metadata": {},
   "source": [
    "# Manipulate PyTorch Tensors\n",
    "<hr>\n",
    "\n",
    "## Matrix manipulation"
   ]
  },
  {
   "cell_type": "code",
   "execution_count": 2,
   "metadata": {},
   "outputs": [],
   "source": [
    "import torch"
   ]
  },
  {
   "cell_type": "markdown",
   "metadata": {},
   "source": [
    "### Make the matrices A and B below. Add them together to obtain a matrix C. Print these three matrices.\n",
    "$$\n",
    "A =\\begin{bmatrix}\n",
    "1 & 2 \\\\ 3 & 4\n",
    "\\end{bmatrix}  \n",
    "\\qquad \n",
    "B =\\begin{bmatrix}\n",
    "10 & 20 \\\\ 30 & 40\n",
    "\\end{bmatrix}  \\qquad C=A+B =?\n",
    "$$"
   ]
  },
  {
   "cell_type": "code",
   "execution_count": 3,
   "metadata": {},
   "outputs": [
    {
     "name": "stdout",
     "output_type": "stream",
     "text": [
      "tensor([[1, 2],\n",
      "        [3, 4]])\n",
      "\n",
      "tensor([[10, 20],\n",
      "        [30, 40]])\n",
      "\n",
      "tensor([[11, 22],\n",
      "        [33, 44]])\n"
     ]
    }
   ],
   "source": [
    "\n",
    "# write your code here\n",
    "\n",
    "A = torch.tensor([[1, 2],\n",
    "          [3, 4]])\n",
    "B = torch.tensor([[10, 20],\n",
    "          [30, 40]])\n",
    "C = torch.add(A, B)\n",
    "\n",
    "# print\n",
    "print(A)\n",
    "print('')\n",
    "print(B)\n",
    "print('')\n",
    "print(C)"
   ]
  },
  {
   "cell_type": "markdown",
   "metadata": {},
   "source": [
    "### Print the dimension, size and type of the matrix A. Remember, the commands are dim(), size() and type()"
   ]
  },
  {
   "cell_type": "code",
   "execution_count": 4,
   "metadata": {},
   "outputs": [
    {
     "name": "stdout",
     "output_type": "stream",
     "text": [
      "2\n",
      "\n",
      "torch.Size([2, 2])\n",
      "\n",
      "torch.LongTensor\n"
     ]
    }
   ],
   "source": [
    "\n",
    "# write your code here\n",
    "\n",
    "print(A.dim())    # print the dimension of the matrix A\n",
    "print('')\n",
    "print(A.size())    # print the size of the matrix A\n",
    "print('')\n",
    "print(A.type())    # print the type of the matrix A"
   ]
  },
  {
   "cell_type": "markdown",
   "metadata": {},
   "source": [
    "### Convert the matrix A to be an integer matrix  (type LongTensor). Remember, the command is long(). Then print the type to check it was indeed converted."
   ]
  },
  {
   "cell_type": "code",
   "execution_count": 6,
   "metadata": {},
   "outputs": [
    {
     "name": "stdout",
     "output_type": "stream",
     "text": [
      "torch.LongTensor\n",
      "\n",
      "torch.IntTensor\n"
     ]
    }
   ],
   "source": [
    "\n",
    "# write your code here\n",
    "A = A.int()\n",
    "A_long = A.long()\n",
    "\n",
    "print(A_long.type())    # print the type of A_long\n",
    "print('')\n",
    "print(A.type())    # print the type of A"
   ]
  },
  {
   "cell_type": "markdown",
   "metadata": {},
   "source": [
    "### Make a random 5 x 2 x 3 Tensor. The command is torch.rand.  Then do the following:   1) Print the tensor,  2) Print its type, 3) Print its dimension,  4) Print its size, 5) Print the size of its middle dimension."
   ]
  },
  {
   "cell_type": "code",
   "execution_count": 7,
   "metadata": {},
   "outputs": [
    {
     "name": "stdout",
     "output_type": "stream",
     "text": [
      "tensor([[[0.9891, 0.7372, 0.3474],\n",
      "         [0.1693, 0.6599, 0.4323]],\n",
      "\n",
      "        [[0.2313, 0.7767, 0.2328],\n",
      "         [0.2236, 0.8772, 0.1210]],\n",
      "\n",
      "        [[0.7667, 0.8562, 0.4763],\n",
      "         [0.3311, 0.2802, 0.0316]],\n",
      "\n",
      "        [[0.1119, 0.5138, 0.3711],\n",
      "         [0.7996, 0.7951, 0.3525]],\n",
      "\n",
      "        [[0.6619, 0.6157, 0.1136],\n",
      "         [0.2158, 0.6711, 0.2810]]])\n",
      "torch.FloatTensor\n",
      "3\n",
      "torch.Size([5, 2, 3])\n",
      "2\n"
     ]
    }
   ],
   "source": [
    "\n",
    "# write your code here\n",
    "\n",
    "A = torch.rand(5,2,3)\n",
    "\n",
    "print(A)\n",
    "print(A.type())    # print the type of A\n",
    "print(A.dim())    # print the dimension of A\n",
    "print(A.size() )    # print the size of A\n",
    "print(A.size()[1])    # print the size of the middle (second) dimension"
   ]
  },
  {
   "cell_type": "markdown",
   "metadata": {},
   "source": [
    "### Make 2 x 3 x 4 x 5 tensor filled with zeros then print it. (The command is torch.zeros). See if you can make sense of the display."
   ]
  },
  {
   "cell_type": "code",
   "execution_count": 10,
   "metadata": {},
   "outputs": [
    {
     "name": "stdout",
     "output_type": "stream",
     "text": [
      "tensor([[[[0., 0., 0., 0., 0.],\n",
      "          [0., 0., 0., 0., 0.],\n",
      "          [0., 0., 0., 0., 0.],\n",
      "          [0., 0., 0., 0., 0.]],\n",
      "\n",
      "         [[0., 0., 0., 0., 0.],\n",
      "          [0., 0., 0., 0., 0.],\n",
      "          [0., 0., 0., 0., 0.],\n",
      "          [0., 0., 0., 0., 0.]],\n",
      "\n",
      "         [[0., 0., 0., 0., 0.],\n",
      "          [0., 0., 0., 0., 0.],\n",
      "          [0., 0., 0., 0., 0.],\n",
      "          [0., 0., 0., 0., 0.]]],\n",
      "\n",
      "\n",
      "        [[[0., 0., 0., 0., 0.],\n",
      "          [0., 0., 0., 0., 0.],\n",
      "          [0., 0., 0., 0., 0.],\n",
      "          [0., 0., 0., 0., 0.]],\n",
      "\n",
      "         [[0., 0., 0., 0., 0.],\n",
      "          [0., 0., 0., 0., 0.],\n",
      "          [0., 0., 0., 0., 0.],\n",
      "          [0., 0., 0., 0., 0.]],\n",
      "\n",
      "         [[0., 0., 0., 0., 0.],\n",
      "          [0., 0., 0., 0., 0.],\n",
      "          [0., 0., 0., 0., 0.],\n",
      "          [0., 0., 0., 0., 0.]]]])\n"
     ]
    }
   ],
   "source": [
    "\n",
    "# write your code here\n",
    "\n",
    "A = torch.zeros(2,3,4,5)\n",
    "\n",
    "print(A)\n"
   ]
  }
 ],
 "metadata": {
  "kernelspec": {
   "display_name": "Python 3",
   "language": "python",
   "name": "python3"
  },
  "language_info": {
   "codemirror_mode": {
    "name": "ipython",
    "version": 3
   },
   "file_extension": ".py",
   "mimetype": "text/x-python",
   "name": "python",
   "nbconvert_exporter": "python",
   "pygments_lexer": "ipython3",
   "version": "3.7.6"
  }
 },
 "nbformat": 4,
 "nbformat_minor": 2
}
